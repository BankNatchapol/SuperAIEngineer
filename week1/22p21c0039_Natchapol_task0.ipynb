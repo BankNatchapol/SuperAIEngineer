{
  "nbformat": 4,
  "nbformat_minor": 0,
  "metadata": {
    "colab": {
      "name": "22p21c0039-Natchapol_task0.ipynb",
      "provenance": [],
      "collapsed_sections": [],
      "toc_visible": true
    },
    "kernelspec": {
      "name": "python3",
      "display_name": "Python 3"
    }
  },
  "cells": [
    {
      "cell_type": "markdown",
      "metadata": {
        "id": "HlAuYP7TOlh1",
        "colab_type": "text"
      },
      "source": [
        "\n",
        "## **22p21c0039-Natchapol**"
      ]
    },
    {
      "cell_type": "markdown",
      "metadata": {
        "id": "hQch9gsHJvfu",
        "colab_type": "text"
      },
      "source": [
        "# 0. เขียนโปรแกรมหาค่าสูงสุดในลิสต์"
      ]
    },
    {
      "cell_type": "code",
      "metadata": {
        "id": "rXDpqmJCJrHq",
        "colab_type": "code",
        "colab": {
          "base_uri": "https://localhost:8080/",
          "height": 33
        },
        "outputId": "7c5145e7-e410-4177-d908-a183070086b5"
      },
      "source": [
        "def listMaxValue(targetList):\n",
        "  maxValue = 0\n",
        "  for item in targetList:\n",
        "    if item > maxValue:\n",
        "      maxValue = item\n",
        "  return maxValue\n",
        "\n",
        "targetList = [10,20,13,4,57,2,1,16,22,31]\n",
        "print(\"Max value is :\", listMaxValue(targetList))"
      ],
      "execution_count": null,
      "outputs": [
        {
          "output_type": "stream",
          "text": [
            "Max value is : 57\n"
          ],
          "name": "stdout"
        }
      ]
    },
    {
      "cell_type": "markdown",
      "metadata": {
        "id": "z2UN72vZUVUt",
        "colab_type": "text"
      },
      "source": [
        "# 1. เขียน 8 puzzle"
      ]
    },
    {
      "cell_type": "code",
      "metadata": {
        "id": "QKwKirS4TefY",
        "colab_type": "code",
        "colab": {}
      },
      "source": [
        "import random\n",
        "import copy\n",
        "\n",
        "def win(puzzle, goal):\n",
        "  return goal == puzzle\n",
        "\n",
        "def find(puzzle,t):\n",
        "    for i in range(len(puzzle)):\n",
        "      for j in range(len(puzzle[i])):\n",
        "        if t == puzzle[i][j]:\n",
        "          return i,j\n",
        "\n",
        "def fScore(puzzle,goal):\n",
        "  init = copy.deepcopy(puzzle)\n",
        "  count = 0\n",
        "  for i in range(len(puzzle)):\n",
        "    for j in range(len(puzzle[i])):\n",
        "      if puzzle[i][j] == 0:\n",
        "        continue\n",
        "      if puzzle[i][j] != init[i][j]:\n",
        "        count += 1  \n",
        "      k,l = find(goal,puzzle[i][j])\n",
        "      count += abs(k-i) + abs(l-j)\n",
        "  return count \n",
        "\n",
        "def genOp(puzzle):\n",
        "  ops = []\n",
        "  i,j = find(puzzle,0)\n",
        "  for p in [(-1,0),(+1,0),(0,-1),(0,+1)]:\n",
        "    if not ((i+p[0] > 2) or (i+p[0] < 0) or (j+p[1] > 2) or (j+p[1] < 0)):\n",
        "      ops.append([i+p[0],j+p[1]])\n",
        "  return ops\n",
        "\n",
        "def swap0(puzzles,pos):\n",
        "  puzzle = copy.deepcopy(puzzles)\n",
        "  i,j = find(puzzle,0)\n",
        "  puzzle[i][j] = puzzle[pos[0]][pos[1]]\n",
        "  puzzle[pos[0]][pos[1]] = 0\n",
        "  return puzzle\n",
        "\n",
        "def shuffle(puzzle, times):\n",
        "\n",
        "  for i in range(times):\n",
        "    o = genOp(puzzle)\n",
        "    k = random.randint(0,len(o)-1)\n",
        "    puzzle = swap0(puzzle,o[k])\n",
        "  return puzzle\n",
        "  \n",
        "def solve(puzzles, goal):\n",
        "  lastList = []\n",
        "  puzzle = copy.deepcopy(puzzles)\n",
        "  last = find(puzzle,0)\n",
        "  while not win(puzzle,goal):\n",
        "    ops = genOp(puzzle)\n",
        "    ops = [ops[i] for i in range(len(ops)) if list(ops[i]) != list(last)]\n",
        "    less = swap0(puzzle, ops[0])\n",
        "    for i,v in enumerate(ops):\n",
        "      if fScore(swap0(puzzle, v),goal) < fScore(less,goal):\n",
        "        less = swap0(puzzle, v)\n",
        "    last = find(puzzle,0)\n",
        "    puzzle = less\n",
        "    lastList.append(puzzle)\n",
        "  return lastList"
      ],
      "execution_count": 1,
      "outputs": []
    },
    {
      "cell_type": "code",
      "metadata": {
        "id": "t1FPnVW3yu2a",
        "colab_type": "code",
        "colab": {
          "base_uri": "https://localhost:8080/",
          "height": 550
        },
        "outputId": "54bbb1dd-64a7-4796-d311-08cc391e4af2"
      },
      "source": [
        "goal = [[1,2,3],\n",
        "        [8,0,4],\n",
        "        [7,6,5]]\n",
        "\n",
        "pb =  shuffle(goal,20)\n",
        "print(\"Target-----\")\n",
        "for i in goal:\n",
        "  print(i)\n",
        "print(\"-----------\")\n",
        "print(\"initial----\")\n",
        "for i in pb:\n",
        "  print(i)\n",
        "print(\"-----------\\n\\n\")\n",
        "lastList = solve(pb, goal)\n",
        "\n",
        "for i in lastList[0]:\n",
        "  print(i)\n",
        "for i in lastList[1:]:\n",
        "  print(\"    |\")\n",
        "  print(\"    V\")\n",
        "  for j in i:\n",
        "    print(j)\n"
      ],
      "execution_count": 2,
      "outputs": [
        {
          "output_type": "stream",
          "text": [
            "Target-----\n",
            "[1, 2, 3]\n",
            "[8, 0, 4]\n",
            "[7, 6, 5]\n",
            "-----------\n",
            "initial----\n",
            "[1, 3, 4]\n",
            "[8, 2, 5]\n",
            "[7, 6, 0]\n",
            "-----------\n",
            "\n",
            "\n",
            "[1, 3, 4]\n",
            "[8, 2, 0]\n",
            "[7, 6, 5]\n",
            "    |\n",
            "    V\n",
            "[1, 3, 0]\n",
            "[8, 2, 4]\n",
            "[7, 6, 5]\n",
            "    |\n",
            "    V\n",
            "[1, 0, 3]\n",
            "[8, 2, 4]\n",
            "[7, 6, 5]\n",
            "    |\n",
            "    V\n",
            "[1, 2, 3]\n",
            "[8, 0, 4]\n",
            "[7, 6, 5]\n"
          ],
          "name": "stdout"
        }
      ]
    },
    {
      "cell_type": "markdown",
      "metadata": {
        "id": "DUrIXBSrnCUf",
        "colab_type": "text"
      },
      "source": [
        "# 2. เขียน depth-first search พร้อม อะนิเมชั่น"
      ]
    },
    {
      "cell_type": "markdown",
      "metadata": {
        "id": "1yZQmtJTzqPr",
        "colab_type": "text"
      },
      "source": [
        "https://www.kaggle.com/natchapolpatamawisut/super-ai-dfs"
      ]
    },
    {
      "cell_type": "markdown",
      "metadata": {
        "id": "4dUNVpV-1Hkh",
        "colab_type": "text"
      },
      "source": [
        "# 3. เลือกข้อมูล 1 อย่างจาก Kaggle มาทำการ visualize ข้อมูลในรูปแบบกราฟต่างๆ"
      ]
    },
    {
      "cell_type": "code",
      "metadata": {
        "id": "t3P6xakY1G6h",
        "colab_type": "code",
        "colab": {
          "base_uri": "https://localhost:8080/",
          "height": 84
        },
        "outputId": "a99dd4ee-f206-43a1-fc93-88d4ff9d528e"
      },
      "source": [
        "!gdown --id 1ecZtwAfx7fo715irc0XaG6FSBXx2VDwp"
      ],
      "execution_count": null,
      "outputs": [
        {
          "output_type": "stream",
          "text": [
            "Downloading...\n",
            "From: https://drive.google.com/uc?id=1ecZtwAfx7fo715irc0XaG6FSBXx2VDwp\n",
            "To: /content/StudentsPerformance.csv\n",
            "\r  0% 0.00/72.0k [00:00<?, ?B/s]\r100% 72.0k/72.0k [00:00<00:00, 25.9MB/s]\n"
          ],
          "name": "stdout"
        }
      ]
    },
    {
      "cell_type": "code",
      "metadata": {
        "id": "j87KJfyE20on",
        "colab_type": "code",
        "colab": {
          "base_uri": "https://localhost:8080/",
          "height": 190
        },
        "outputId": "42a4775b-2245-4f34-b267-7a5494ccf691"
      },
      "source": [
        "import pandas as pd\n",
        "\n",
        "df = pd.read_csv('/content/StudentsPerformance.csv')\n",
        "df.head()"
      ],
      "execution_count": null,
      "outputs": [
        {
          "output_type": "execute_result",
          "data": {
            "text/html": [
              "<div>\n",
              "<style scoped>\n",
              "    .dataframe tbody tr th:only-of-type {\n",
              "        vertical-align: middle;\n",
              "    }\n",
              "\n",
              "    .dataframe tbody tr th {\n",
              "        vertical-align: top;\n",
              "    }\n",
              "\n",
              "    .dataframe thead th {\n",
              "        text-align: right;\n",
              "    }\n",
              "</style>\n",
              "<table border=\"1\" class=\"dataframe\">\n",
              "  <thead>\n",
              "    <tr style=\"text-align: right;\">\n",
              "      <th></th>\n",
              "      <th>gender</th>\n",
              "      <th>race/ethnicity</th>\n",
              "      <th>parental level of education</th>\n",
              "      <th>lunch</th>\n",
              "      <th>test preparation course</th>\n",
              "      <th>math score</th>\n",
              "      <th>reading score</th>\n",
              "      <th>writing score</th>\n",
              "    </tr>\n",
              "  </thead>\n",
              "  <tbody>\n",
              "    <tr>\n",
              "      <th>0</th>\n",
              "      <td>female</td>\n",
              "      <td>group B</td>\n",
              "      <td>bachelor's degree</td>\n",
              "      <td>standard</td>\n",
              "      <td>none</td>\n",
              "      <td>72</td>\n",
              "      <td>72</td>\n",
              "      <td>74</td>\n",
              "    </tr>\n",
              "    <tr>\n",
              "      <th>1</th>\n",
              "      <td>female</td>\n",
              "      <td>group C</td>\n",
              "      <td>some college</td>\n",
              "      <td>standard</td>\n",
              "      <td>completed</td>\n",
              "      <td>69</td>\n",
              "      <td>90</td>\n",
              "      <td>88</td>\n",
              "    </tr>\n",
              "    <tr>\n",
              "      <th>2</th>\n",
              "      <td>female</td>\n",
              "      <td>group B</td>\n",
              "      <td>master's degree</td>\n",
              "      <td>standard</td>\n",
              "      <td>none</td>\n",
              "      <td>90</td>\n",
              "      <td>95</td>\n",
              "      <td>93</td>\n",
              "    </tr>\n",
              "    <tr>\n",
              "      <th>3</th>\n",
              "      <td>male</td>\n",
              "      <td>group A</td>\n",
              "      <td>associate's degree</td>\n",
              "      <td>free/reduced</td>\n",
              "      <td>none</td>\n",
              "      <td>47</td>\n",
              "      <td>57</td>\n",
              "      <td>44</td>\n",
              "    </tr>\n",
              "    <tr>\n",
              "      <th>4</th>\n",
              "      <td>male</td>\n",
              "      <td>group C</td>\n",
              "      <td>some college</td>\n",
              "      <td>standard</td>\n",
              "      <td>none</td>\n",
              "      <td>76</td>\n",
              "      <td>78</td>\n",
              "      <td>75</td>\n",
              "    </tr>\n",
              "  </tbody>\n",
              "</table>\n",
              "</div>"
            ],
            "text/plain": [
              "   gender race/ethnicity  ... reading score writing score\n",
              "0  female        group B  ...            72            74\n",
              "1  female        group C  ...            90            88\n",
              "2  female        group B  ...            95            93\n",
              "3    male        group A  ...            57            44\n",
              "4    male        group C  ...            78            75\n",
              "\n",
              "[5 rows x 8 columns]"
            ]
          },
          "metadata": {
            "tags": []
          },
          "execution_count": 6
        }
      ]
    },
    {
      "cell_type": "code",
      "metadata": {
        "id": "NZkWaavh5JnC",
        "colab_type": "code",
        "colab": {
          "base_uri": "https://localhost:8080/",
          "height": 268
        },
        "outputId": "93666846-44ea-4142-d0d0-8aa6781d679a"
      },
      "source": [
        "df.info()"
      ],
      "execution_count": null,
      "outputs": [
        {
          "output_type": "stream",
          "text": [
            "<class 'pandas.core.frame.DataFrame'>\n",
            "RangeIndex: 1000 entries, 0 to 999\n",
            "Data columns (total 8 columns):\n",
            " #   Column                       Non-Null Count  Dtype \n",
            "---  ------                       --------------  ----- \n",
            " 0   gender                       1000 non-null   object\n",
            " 1   race/ethnicity               1000 non-null   object\n",
            " 2   parental level of education  1000 non-null   object\n",
            " 3   lunch                        1000 non-null   object\n",
            " 4   test preparation course      1000 non-null   object\n",
            " 5   math score                   1000 non-null   int64 \n",
            " 6   reading score                1000 non-null   int64 \n",
            " 7   writing score                1000 non-null   int64 \n",
            "dtypes: int64(3), object(5)\n",
            "memory usage: 62.6+ KB\n"
          ],
          "name": "stdout"
        }
      ]
    },
    {
      "cell_type": "code",
      "metadata": {
        "id": "SyvQdLFX31PG",
        "colab_type": "code",
        "colab": {
          "base_uri": "https://localhost:8080/",
          "height": 219
        },
        "outputId": "0aec6db9-ddec-434f-87d1-b17015ec8d52"
      },
      "source": [
        "df.groupby(\"race/ethnicity\")[[\"math score\",\"reading score\",\"writing score\"]].mean()"
      ],
      "execution_count": null,
      "outputs": [
        {
          "output_type": "execute_result",
          "data": {
            "text/html": [
              "<div>\n",
              "<style scoped>\n",
              "    .dataframe tbody tr th:only-of-type {\n",
              "        vertical-align: middle;\n",
              "    }\n",
              "\n",
              "    .dataframe tbody tr th {\n",
              "        vertical-align: top;\n",
              "    }\n",
              "\n",
              "    .dataframe thead th {\n",
              "        text-align: right;\n",
              "    }\n",
              "</style>\n",
              "<table border=\"1\" class=\"dataframe\">\n",
              "  <thead>\n",
              "    <tr style=\"text-align: right;\">\n",
              "      <th></th>\n",
              "      <th>math score</th>\n",
              "      <th>reading score</th>\n",
              "      <th>writing score</th>\n",
              "    </tr>\n",
              "    <tr>\n",
              "      <th>race/ethnicity</th>\n",
              "      <th></th>\n",
              "      <th></th>\n",
              "      <th></th>\n",
              "    </tr>\n",
              "  </thead>\n",
              "  <tbody>\n",
              "    <tr>\n",
              "      <th>group A</th>\n",
              "      <td>61.629213</td>\n",
              "      <td>64.674157</td>\n",
              "      <td>62.674157</td>\n",
              "    </tr>\n",
              "    <tr>\n",
              "      <th>group B</th>\n",
              "      <td>63.452632</td>\n",
              "      <td>67.352632</td>\n",
              "      <td>65.600000</td>\n",
              "    </tr>\n",
              "    <tr>\n",
              "      <th>group C</th>\n",
              "      <td>64.463950</td>\n",
              "      <td>69.103448</td>\n",
              "      <td>67.827586</td>\n",
              "    </tr>\n",
              "    <tr>\n",
              "      <th>group D</th>\n",
              "      <td>67.362595</td>\n",
              "      <td>70.030534</td>\n",
              "      <td>70.145038</td>\n",
              "    </tr>\n",
              "    <tr>\n",
              "      <th>group E</th>\n",
              "      <td>73.821429</td>\n",
              "      <td>73.028571</td>\n",
              "      <td>71.407143</td>\n",
              "    </tr>\n",
              "  </tbody>\n",
              "</table>\n",
              "</div>"
            ],
            "text/plain": [
              "                math score  reading score  writing score\n",
              "race/ethnicity                                          \n",
              "group A          61.629213      64.674157      62.674157\n",
              "group B          63.452632      67.352632      65.600000\n",
              "group C          64.463950      69.103448      67.827586\n",
              "group D          67.362595      70.030534      70.145038\n",
              "group E          73.821429      73.028571      71.407143"
            ]
          },
          "metadata": {
            "tags": []
          },
          "execution_count": 8
        }
      ]
    },
    {
      "cell_type": "code",
      "metadata": {
        "id": "-SNcl33_5M_k",
        "colab_type": "code",
        "colab": {
          "base_uri": "https://localhost:8080/",
          "height": 336
        },
        "outputId": "de12462a-522c-4453-8f34-ac4d1d76c834"
      },
      "source": [
        "import numpy as np\n",
        "import matplotlib.pyplot as plt\n",
        "data = df.groupby(\"race/ethnicity\")[[\"math score\",\"reading score\",\"writing score\"]].mean()\n",
        "X = np.arange(5)\n",
        "fig = plt.figure()\n",
        "ax = fig.add_axes([0,0,1,1])\n",
        "\n",
        "ax.bar(X + 0.00, list(data[\"math score\"]), color = 'b', width = 0.25)\n",
        "ax.bar(X + 0.25, list(data[\"reading score\"]), color = 'g', width = 0.25)\n",
        "ax.bar(X + 0.50, list(data[\"writing score\"]), color = 'r', width = 0.25)\n",
        "a = list(data.index)\n",
        "ax.set_xticklabels([1] + a)\n",
        "plt.ylim(60,75)\n",
        "plt.legend(['math score','reading score','writing score']);"
      ],
      "execution_count": null,
      "outputs": [
        {
          "output_type": "display_data",
          "data": {
            "image/png": "[encoded data removed]",
            "text/plain": [
              "<Figure size 432x288 with 1 Axes>"
            ]
          },
          "metadata": {
            "tags": [],
            "needs_background": "light"
          }
        }
      ]
    },
    {
      "cell_type": "code",
      "metadata": {
        "id": "skW0kNh26CIR",
        "colab_type": "code",
        "colab": {
          "base_uri": "https://localhost:8080/",
          "height": 133
        },
        "outputId": "cff87713-a762-4f5a-9b47-4156355d47bd"
      },
      "source": [
        "a = df.groupby(\"gender\")[[\"math score\",\"reading score\",\"writing score\"]].mean()\n",
        "a"
      ],
      "execution_count": null,
      "outputs": [
        {
          "output_type": "execute_result",
          "data": {
            "text/html": [
              "<div>\n",
              "<style scoped>\n",
              "    .dataframe tbody tr th:only-of-type {\n",
              "        vertical-align: middle;\n",
              "    }\n",
              "\n",
              "    .dataframe tbody tr th {\n",
              "        vertical-align: top;\n",
              "    }\n",
              "\n",
              "    .dataframe thead th {\n",
              "        text-align: right;\n",
              "    }\n",
              "</style>\n",
              "<table border=\"1\" class=\"dataframe\">\n",
              "  <thead>\n",
              "    <tr style=\"text-align: right;\">\n",
              "      <th></th>\n",
              "      <th>math score</th>\n",
              "      <th>reading score</th>\n",
              "      <th>writing score</th>\n",
              "    </tr>\n",
              "    <tr>\n",
              "      <th>gender</th>\n",
              "      <th></th>\n",
              "      <th></th>\n",
              "      <th></th>\n",
              "    </tr>\n",
              "  </thead>\n",
              "  <tbody>\n",
              "    <tr>\n",
              "      <th>female</th>\n",
              "      <td>63.633205</td>\n",
              "      <td>72.608108</td>\n",
              "      <td>72.467181</td>\n",
              "    </tr>\n",
              "    <tr>\n",
              "      <th>male</th>\n",
              "      <td>68.728216</td>\n",
              "      <td>65.473029</td>\n",
              "      <td>63.311203</td>\n",
              "    </tr>\n",
              "  </tbody>\n",
              "</table>\n",
              "</div>"
            ],
            "text/plain": [
              "        math score  reading score  writing score\n",
              "gender                                          \n",
              "female   63.633205      72.608108      72.467181\n",
              "male     68.728216      65.473029      63.311203"
            ]
          },
          "metadata": {
            "tags": []
          },
          "execution_count": 10
        }
      ]
    },
    {
      "cell_type": "code",
      "metadata": {
        "id": "UMlgf5gt9E4U",
        "colab_type": "code",
        "colab": {
          "base_uri": "https://localhost:8080/",
          "height": 336
        },
        "outputId": "b10172cd-9861-4298-c14c-4332f38a7f66"
      },
      "source": [
        "X = np.arange(2)\n",
        "fig = plt.figure()\n",
        "ax = fig.add_axes([0,0,1,1])\n",
        "data = df.groupby(\"gender\")[[\"math score\",\"reading score\",\"writing score\"]].mean()\n",
        "ax.bar(X + 0.00, list(data[\"math score\"]), color = 'b', width = 0.25)\n",
        "ax.bar(X + 0.25, list(data[\"reading score\"]), color = 'g', width = 0.25)\n",
        "ax.bar(X + 0.50, list(data[\"writing score\"]), color = 'r', width = 0.25)\n",
        "a = list(data.index)\n",
        "a.insert(1,\"\")\n",
        "a.insert(1,\"\")\n",
        "a.insert(1,\"\")\n",
        "ax.set_xticklabels([\"\",\"\"] + a)\n",
        "plt.ylim(60,75)\n",
        "plt.legend(['math score','reading score','writing score']);"
      ],
      "execution_count": null,
      "outputs": [
        {
          "output_type": "display_data",
          "data": {
            "image/png": "[encoded data removed]",
            "text/plain": [
              "<Figure size 432x288 with 1 Axes>"
            ]
          },
          "metadata": {
            "tags": [],
            "needs_background": "light"
          }
        }
      ]
    },
    {
      "cell_type": "code",
      "metadata": {
        "id": "xOt1jrTz-uKx",
        "colab_type": "code",
        "colab": {
          "base_uri": "https://localhost:8080/",
          "height": 248
        },
        "outputId": "8f55f288-8052-48c9-ace2-6c308024aa29"
      },
      "source": [
        "a = df.groupby(\"parental level of education\")[[\"math score\",\"reading score\",\"writing score\"]].mean()\n",
        "a"
      ],
      "execution_count": null,
      "outputs": [
        {
          "output_type": "execute_result",
          "data": {
            "text/html": [
              "<div>\n",
              "<style scoped>\n",
              "    .dataframe tbody tr th:only-of-type {\n",
              "        vertical-align: middle;\n",
              "    }\n",
              "\n",
              "    .dataframe tbody tr th {\n",
              "        vertical-align: top;\n",
              "    }\n",
              "\n",
              "    .dataframe thead th {\n",
              "        text-align: right;\n",
              "    }\n",
              "</style>\n",
              "<table border=\"1\" class=\"dataframe\">\n",
              "  <thead>\n",
              "    <tr style=\"text-align: right;\">\n",
              "      <th></th>\n",
              "      <th>math score</th>\n",
              "      <th>reading score</th>\n",
              "      <th>writing score</th>\n",
              "    </tr>\n",
              "    <tr>\n",
              "      <th>parental level of education</th>\n",
              "      <th></th>\n",
              "      <th></th>\n",
              "      <th></th>\n",
              "    </tr>\n",
              "  </thead>\n",
              "  <tbody>\n",
              "    <tr>\n",
              "      <th>associate's degree</th>\n",
              "      <td>67.882883</td>\n",
              "      <td>70.927928</td>\n",
              "      <td>69.896396</td>\n",
              "    </tr>\n",
              "    <tr>\n",
              "      <th>bachelor's degree</th>\n",
              "      <td>69.389831</td>\n",
              "      <td>73.000000</td>\n",
              "      <td>73.381356</td>\n",
              "    </tr>\n",
              "    <tr>\n",
              "      <th>high school</th>\n",
              "      <td>62.137755</td>\n",
              "      <td>64.704082</td>\n",
              "      <td>62.448980</td>\n",
              "    </tr>\n",
              "    <tr>\n",
              "      <th>master's degree</th>\n",
              "      <td>69.745763</td>\n",
              "      <td>75.372881</td>\n",
              "      <td>75.677966</td>\n",
              "    </tr>\n",
              "    <tr>\n",
              "      <th>some college</th>\n",
              "      <td>67.128319</td>\n",
              "      <td>69.460177</td>\n",
              "      <td>68.840708</td>\n",
              "    </tr>\n",
              "    <tr>\n",
              "      <th>some high school</th>\n",
              "      <td>63.497207</td>\n",
              "      <td>66.938547</td>\n",
              "      <td>64.888268</td>\n",
              "    </tr>\n",
              "  </tbody>\n",
              "</table>\n",
              "</div>"
            ],
            "text/plain": [
              "                             math score  reading score  writing score\n",
              "parental level of education                                          \n",
              "associate's degree            67.882883      70.927928      69.896396\n",
              "bachelor's degree             69.389831      73.000000      73.381356\n",
              "high school                   62.137755      64.704082      62.448980\n",
              "master's degree               69.745763      75.372881      75.677966\n",
              "some college                  67.128319      69.460177      68.840708\n",
              "some high school              63.497207      66.938547      64.888268"
            ]
          },
          "metadata": {
            "tags": []
          },
          "execution_count": 12
        }
      ]
    },
    {
      "cell_type": "code",
      "metadata": {
        "id": "bTBD6hUe_YNP",
        "colab_type": "code",
        "colab": {
          "base_uri": "https://localhost:8080/",
          "height": 403
        },
        "outputId": "56bd7f60-d358-4e97-d09c-9bca8af9f83f"
      },
      "source": [
        "data = df.groupby(\"parental level of education\")[[\"math score\",\"reading score\",\"writing score\"]].mean()\n",
        "X = np.arange(6)\n",
        "fig = plt.figure()\n",
        "ax = fig.add_axes([0,0,1,1])\n",
        "\n",
        "ax.bar(X + 0.00, list(data[\"math score\"]), color = 'b', width = 0.25)\n",
        "ax.bar(X + 0.25, list(data[\"reading score\"]), color = 'g', width = 0.25)\n",
        "ax.bar(X + 0.50, list(data[\"writing score\"]), color = 'r', width = 0.25)\n",
        "a = list(data.index)\n",
        "ax.set_xticklabels([1] + a,rotation=45)\n",
        "plt.ylim(60,80)\n",
        "plt.legend(['math score','reading score','writing score']);"
      ],
      "execution_count": null,
      "outputs": [
        {
          "output_type": "display_data",
          "data": {
            "image/png": "[encoded data removed]",
            "text/plain": [
              "<Figure size 432x288 with 1 Axes>"
            ]
          },
          "metadata": {
            "tags": [],
            "needs_background": "light"
          }
        }
      ]
    },
    {
      "cell_type": "code",
      "metadata": {
        "id": "nVk_gJma_hRB",
        "colab_type": "code",
        "colab": {
          "base_uri": "https://localhost:8080/",
          "height": 133
        },
        "outputId": "82c731e5-ab7e-4eaa-f5be-b7373ca1547e"
      },
      "source": [
        "a = df.groupby(\"lunch\")[[\"math score\",\"reading score\",\"writing score\"]].mean()\n",
        "a"
      ],
      "execution_count": null,
      "outputs": [
        {
          "output_type": "execute_result",
          "data": {
            "text/html": [
              "<div>\n",
              "<style scoped>\n",
              "    .dataframe tbody tr th:only-of-type {\n",
              "        vertical-align: middle;\n",
              "    }\n",
              "\n",
              "    .dataframe tbody tr th {\n",
              "        vertical-align: top;\n",
              "    }\n",
              "\n",
              "    .dataframe thead th {\n",
              "        text-align: right;\n",
              "    }\n",
              "</style>\n",
              "<table border=\"1\" class=\"dataframe\">\n",
              "  <thead>\n",
              "    <tr style=\"text-align: right;\">\n",
              "      <th></th>\n",
              "      <th>math score</th>\n",
              "      <th>reading score</th>\n",
              "      <th>writing score</th>\n",
              "    </tr>\n",
              "    <tr>\n",
              "      <th>lunch</th>\n",
              "      <th></th>\n",
              "      <th></th>\n",
              "      <th></th>\n",
              "    </tr>\n",
              "  </thead>\n",
              "  <tbody>\n",
              "    <tr>\n",
              "      <th>free/reduced</th>\n",
              "      <td>58.921127</td>\n",
              "      <td>64.653521</td>\n",
              "      <td>63.022535</td>\n",
              "    </tr>\n",
              "    <tr>\n",
              "      <th>standard</th>\n",
              "      <td>70.034109</td>\n",
              "      <td>71.654264</td>\n",
              "      <td>70.823256</td>\n",
              "    </tr>\n",
              "  </tbody>\n",
              "</table>\n",
              "</div>"
            ],
            "text/plain": [
              "              math score  reading score  writing score\n",
              "lunch                                                 \n",
              "free/reduced   58.921127      64.653521      63.022535\n",
              "standard       70.034109      71.654264      70.823256"
            ]
          },
          "metadata": {
            "tags": []
          },
          "execution_count": 14
        }
      ]
    },
    {
      "cell_type": "code",
      "metadata": {
        "id": "pe2PdM4HABXV",
        "colab_type": "code",
        "cellView": "both",
        "colab": {
          "base_uri": "https://localhost:8080/",
          "height": 339
        },
        "outputId": "cf76bb18-60e6-485a-c13e-6a2456d5bc5e"
      },
      "source": [
        "data = df.groupby(\"lunch\")[[\"math score\",\"reading score\",\"writing score\"]].mean()\n",
        "X = np.arange(2)\n",
        "fig = plt.figure()\n",
        "ax = fig.add_axes([0,0,1,1])\n",
        "\n",
        "ax.bar(X + 0.00, list(data[\"math score\"]), color = 'b', width = 0.25)\n",
        "ax.bar(X + 0.25, list(data[\"reading score\"]), color = 'g', width = 0.25)\n",
        "ax.bar(X + 0.50, list(data[\"writing score\"]), color = 'r', width = 0.25)\n",
        "a = list(data.index)\n",
        "a.insert(1,\"\")\n",
        "a.insert(1,\"\")\n",
        "a.insert(1,\"\")\n",
        "ax.set_xticklabels([\"\",\"\"] + a)\n",
        "plt.ylim(50,75)\n",
        "plt.legend(['math score','reading score','writing score']);"
      ],
      "execution_count": null,
      "outputs": [
        {
          "output_type": "display_data",
          "data": {
            "image/png": "[encoded data removed]",
            "text/plain": [
              "<Figure size 432x288 with 1 Axes>"
            ]
          },
          "metadata": {
            "tags": [],
            "needs_background": "light"
          }
        }
      ]
    },
    {
      "cell_type": "code",
      "metadata": {
        "id": "ZMJWfmBzAHb2",
        "colab_type": "code",
        "colab": {
          "base_uri": "https://localhost:8080/",
          "height": 133
        },
        "outputId": "6e2fffa4-8de0-4d37-e975-37acdc8dd444"
      },
      "source": [
        "a = df.groupby(\"test preparation course\")[[\"math score\",\"reading score\",\"writing score\"]].mean()\n",
        "a"
      ],
      "execution_count": null,
      "outputs": [
        {
          "output_type": "execute_result",
          "data": {
            "text/html": [
              "<div>\n",
              "<style scoped>\n",
              "    .dataframe tbody tr th:only-of-type {\n",
              "        vertical-align: middle;\n",
              "    }\n",
              "\n",
              "    .dataframe tbody tr th {\n",
              "        vertical-align: top;\n",
              "    }\n",
              "\n",
              "    .dataframe thead th {\n",
              "        text-align: right;\n",
              "    }\n",
              "</style>\n",
              "<table border=\"1\" class=\"dataframe\">\n",
              "  <thead>\n",
              "    <tr style=\"text-align: right;\">\n",
              "      <th></th>\n",
              "      <th>math score</th>\n",
              "      <th>reading score</th>\n",
              "      <th>writing score</th>\n",
              "    </tr>\n",
              "    <tr>\n",
              "      <th>test preparation course</th>\n",
              "      <th></th>\n",
              "      <th></th>\n",
              "      <th></th>\n",
              "    </tr>\n",
              "  </thead>\n",
              "  <tbody>\n",
              "    <tr>\n",
              "      <th>completed</th>\n",
              "      <td>69.695531</td>\n",
              "      <td>73.893855</td>\n",
              "      <td>74.418994</td>\n",
              "    </tr>\n",
              "    <tr>\n",
              "      <th>none</th>\n",
              "      <td>64.077882</td>\n",
              "      <td>66.534268</td>\n",
              "      <td>64.504673</td>\n",
              "    </tr>\n",
              "  </tbody>\n",
              "</table>\n",
              "</div>"
            ],
            "text/plain": [
              "                         math score  reading score  writing score\n",
              "test preparation course                                          \n",
              "completed                 69.695531      73.893855      74.418994\n",
              "none                      64.077882      66.534268      64.504673"
            ]
          },
          "metadata": {
            "tags": []
          },
          "execution_count": 16
        }
      ]
    },
    {
      "cell_type": "code",
      "metadata": {
        "id": "TXyw94XxApbE",
        "colab_type": "code",
        "colab": {
          "base_uri": "https://localhost:8080/",
          "height": 339
        },
        "outputId": "f756e931-3ab6-4ec9-a7d5-c23beb9247e3"
      },
      "source": [
        "data = df.groupby(\"test preparation course\")[[\"math score\",\"reading score\",\"writing score\"]].mean()\n",
        "X = np.arange(2)\n",
        "fig = plt.figure()\n",
        "ax = fig.add_axes([0,0,1,1])\n",
        "\n",
        "ax.bar(X + 0.00, list(data[\"math score\"]), color = 'b', width = 0.25)\n",
        "ax.bar(X + 0.25, list(data[\"reading score\"]), color = 'g', width = 0.25)\n",
        "ax.bar(X + 0.50, list(data[\"writing score\"]), color = 'r', width = 0.25)\n",
        "a = list(data.index)\n",
        "a.insert(1,\"\")\n",
        "a.insert(1,\"\")\n",
        "a.insert(1,\"\")\n",
        "ax.set_xticklabels([\"\",\"\"] + a)\n",
        "plt.ylim(50,80)\n",
        "plt.legend(['math score','reading score','writing score']);"
      ],
      "execution_count": null,
      "outputs": [
        {
          "output_type": "display_data",
          "data": {
            "image/png": "[encoded data removed]",
            "text/plain": [
              "<Figure size 432x288 with 1 Axes>"
            ]
          },
          "metadata": {
            "tags": [],
            "needs_background": "light"
          }
        }
      ]
    },
    {
      "cell_type": "code",
      "metadata": {
        "id": "3IfzfwlRAvZ2",
        "colab_type": "code",
        "colab": {}
      },
      "source": [
        ""
      ],
      "execution_count": null,
      "outputs": []
    }
  ]
}