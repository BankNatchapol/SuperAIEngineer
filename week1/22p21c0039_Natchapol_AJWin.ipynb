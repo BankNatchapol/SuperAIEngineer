{
  "nbformat": 4,
  "nbformat_minor": 0,
  "metadata": {
    "colab": {
      "name": "AjWinQuiz.ipynb",
      "provenance": [],
      "collapsed_sections": []
    },
    "kernelspec": {
      "name": "python3",
      "display_name": "Python 3"
    }
  },
  "cells": [
    {
      "cell_type": "code",
      "metadata": {
        "id": "15JNoaRDoSrR",
        "colab_type": "code",
        "colab": {
          "base_uri": "https://localhost:8080/",
          "height": 40
        },
        "outputId": "48e85d87-81d1-4462-f4b7-4804d2a9ed6a"
      },
      "source": [
        "nameList = ['winn','thanarak','somchai','ricky','tao','wanida','peerapol']\n",
        "\n",
        "def countAlphaName(alpha, nameList):\n",
        "  return sum([1 for name in nameList if alpha in name])\n",
        "\n",
        "print(countAlphaName('s',nameList))"
      ],
      "execution_count": null,
      "outputs": [
        {
          "output_type": "stream",
          "text": [
            "1\n"
          ],
          "name": "stdout"
        }
      ]
    }
  ]
}