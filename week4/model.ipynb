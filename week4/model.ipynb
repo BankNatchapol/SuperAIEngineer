{
 "metadata": {
  "language_info": {
   "codemirror_mode": {
    "name": "ipython",
    "version": 3
   },
   "file_extension": ".py",
   "mimetype": "text/x-python",
   "name": "python",
   "nbconvert_exporter": "python",
   "pygments_lexer": "ipython3",
   "version": "3.7.7-final"
  },
  "orig_nbformat": 2,
  "kernelspec": {
   "name": "Python 3.7.7 64-bit ('base': conda)",
   "display_name": "Python 3.7.7 64-bit ('base': conda)",
   "metadata": {
    "interpreter": {
     "hash": "21fb1e6bde7027b6f6d4cd3ef71b3932b05b6621991370dd0ff7b1178b8de0ba"
    }
   }
  }
 },
 "nbformat": 4,
 "nbformat_minor": 2,
 "cells": [
  {
   "cell_type": "code",
   "execution_count": 2,
   "metadata": {},
   "outputs": [],
   "source": [
    "from sklearn.datasets import load_iris\n",
    "from sklearn.linear_model import LogisticRegression\n",
    "from sklearn.model_selection import train_test_split\n",
    "from sklearn.metrics import accuracy_score\n",
    "import joblib\n",
    "import numpy as np\n",
    "import pandas as pd"
   ]
  },
  {
   "cell_type": "code",
   "execution_count": 14,
   "metadata": {},
   "outputs": [
    {
     "output_type": "execute_result",
     "data": {
      "text/plain": [
       "['sepal length (cm)',\n",
       " 'sepal width (cm)',\n",
       " 'petal length (cm)',\n",
       " 'petal width (cm)']"
      ]
     },
     "metadata": {},
     "execution_count": 14
    }
   ],
   "source": [
    "iris = load_iris()\n",
    "X, y = iris['data'], iris['target']\n",
    "iris.feature_names"
   ]
  },
  {
   "cell_type": "code",
   "execution_count": 18,
   "metadata": {},
   "outputs": [
    {
     "output_type": "execute_result",
     "data": {
      "text/plain": [
       "array(['setosa', 'versicolor', 'virginica'], dtype='<U10')"
      ]
     },
     "metadata": {},
     "execution_count": 18
    }
   ],
   "source": [
    "iris.target_names"
   ]
  },
  {
   "cell_type": "code",
   "execution_count": 23,
   "metadata": {},
   "outputs": [
    {
     "output_type": "execute_result",
     "data": {
      "text/plain": [
       "[(array([5.1, 3.5, 1.4, 0.2]), 0),\n",
       " (array([4.9, 3. , 1.4, 0.2]), 0),\n",
       " (array([4.7, 3.2, 1.3, 0.2]), 0),\n",
       " (array([4.6, 3.1, 1.5, 0.2]), 0),\n",
       " (array([5. , 3.6, 1.4, 0.2]), 0),\n",
       " (array([5.4, 3.9, 1.7, 0.4]), 0),\n",
       " (array([4.6, 3.4, 1.4, 0.3]), 0),\n",
       " (array([5. , 3.4, 1.5, 0.2]), 0),\n",
       " (array([4.4, 2.9, 1.4, 0.2]), 0),\n",
       " (array([4.9, 3.1, 1.5, 0.1]), 0),\n",
       " (array([5.4, 3.7, 1.5, 0.2]), 0),\n",
       " (array([4.8, 3.4, 1.6, 0.2]), 0),\n",
       " (array([4.8, 3. , 1.4, 0.1]), 0),\n",
       " (array([4.3, 3. , 1.1, 0.1]), 0),\n",
       " (array([5.8, 4. , 1.2, 0.2]), 0),\n",
       " (array([5.7, 4.4, 1.5, 0.4]), 0),\n",
       " (array([5.4, 3.9, 1.3, 0.4]), 0),\n",
       " (array([5.1, 3.5, 1.4, 0.3]), 0),\n",
       " (array([5.7, 3.8, 1.7, 0.3]), 0),\n",
       " (array([5.1, 3.8, 1.5, 0.3]), 0),\n",
       " (array([5.4, 3.4, 1.7, 0.2]), 0),\n",
       " (array([5.1, 3.7, 1.5, 0.4]), 0),\n",
       " (array([4.6, 3.6, 1. , 0.2]), 0),\n",
       " (array([5.1, 3.3, 1.7, 0.5]), 0),\n",
       " (array([4.8, 3.4, 1.9, 0.2]), 0),\n",
       " (array([5. , 3. , 1.6, 0.2]), 0),\n",
       " (array([5. , 3.4, 1.6, 0.4]), 0),\n",
       " (array([5.2, 3.5, 1.5, 0.2]), 0),\n",
       " (array([5.2, 3.4, 1.4, 0.2]), 0),\n",
       " (array([4.7, 3.2, 1.6, 0.2]), 0),\n",
       " (array([4.8, 3.1, 1.6, 0.2]), 0),\n",
       " (array([5.4, 3.4, 1.5, 0.4]), 0),\n",
       " (array([5.2, 4.1, 1.5, 0.1]), 0),\n",
       " (array([5.5, 4.2, 1.4, 0.2]), 0),\n",
       " (array([4.9, 3.1, 1.5, 0.2]), 0),\n",
       " (array([5. , 3.2, 1.2, 0.2]), 0),\n",
       " (array([5.5, 3.5, 1.3, 0.2]), 0),\n",
       " (array([4.9, 3.6, 1.4, 0.1]), 0),\n",
       " (array([4.4, 3. , 1.3, 0.2]), 0),\n",
       " (array([5.1, 3.4, 1.5, 0.2]), 0),\n",
       " (array([5. , 3.5, 1.3, 0.3]), 0),\n",
       " (array([4.5, 2.3, 1.3, 0.3]), 0),\n",
       " (array([4.4, 3.2, 1.3, 0.2]), 0),\n",
       " (array([5. , 3.5, 1.6, 0.6]), 0),\n",
       " (array([5.1, 3.8, 1.9, 0.4]), 0),\n",
       " (array([4.8, 3. , 1.4, 0.3]), 0),\n",
       " (array([5.1, 3.8, 1.6, 0.2]), 0),\n",
       " (array([4.6, 3.2, 1.4, 0.2]), 0),\n",
       " (array([5.3, 3.7, 1.5, 0.2]), 0),\n",
       " (array([5. , 3.3, 1.4, 0.2]), 0),\n",
       " (array([7. , 3.2, 4.7, 1.4]), 1),\n",
       " (array([6.4, 3.2, 4.5, 1.5]), 1),\n",
       " (array([6.9, 3.1, 4.9, 1.5]), 1),\n",
       " (array([5.5, 2.3, 4. , 1.3]), 1),\n",
       " (array([6.5, 2.8, 4.6, 1.5]), 1),\n",
       " (array([5.7, 2.8, 4.5, 1.3]), 1),\n",
       " (array([6.3, 3.3, 4.7, 1.6]), 1),\n",
       " (array([4.9, 2.4, 3.3, 1. ]), 1),\n",
       " (array([6.6, 2.9, 4.6, 1.3]), 1),\n",
       " (array([5.2, 2.7, 3.9, 1.4]), 1),\n",
       " (array([5. , 2. , 3.5, 1. ]), 1),\n",
       " (array([5.9, 3. , 4.2, 1.5]), 1),\n",
       " (array([6. , 2.2, 4. , 1. ]), 1),\n",
       " (array([6.1, 2.9, 4.7, 1.4]), 1),\n",
       " (array([5.6, 2.9, 3.6, 1.3]), 1),\n",
       " (array([6.7, 3.1, 4.4, 1.4]), 1),\n",
       " (array([5.6, 3. , 4.5, 1.5]), 1),\n",
       " (array([5.8, 2.7, 4.1, 1. ]), 1),\n",
       " (array([6.2, 2.2, 4.5, 1.5]), 1),\n",
       " (array([5.6, 2.5, 3.9, 1.1]), 1),\n",
       " (array([5.9, 3.2, 4.8, 1.8]), 1),\n",
       " (array([6.1, 2.8, 4. , 1.3]), 1),\n",
       " (array([6.3, 2.5, 4.9, 1.5]), 1),\n",
       " (array([6.1, 2.8, 4.7, 1.2]), 1),\n",
       " (array([6.4, 2.9, 4.3, 1.3]), 1),\n",
       " (array([6.6, 3. , 4.4, 1.4]), 1),\n",
       " (array([6.8, 2.8, 4.8, 1.4]), 1),\n",
       " (array([6.7, 3. , 5. , 1.7]), 1),\n",
       " (array([6. , 2.9, 4.5, 1.5]), 1),\n",
       " (array([5.7, 2.6, 3.5, 1. ]), 1),\n",
       " (array([5.5, 2.4, 3.8, 1.1]), 1),\n",
       " (array([5.5, 2.4, 3.7, 1. ]), 1),\n",
       " (array([5.8, 2.7, 3.9, 1.2]), 1),\n",
       " (array([6. , 2.7, 5.1, 1.6]), 1),\n",
       " (array([5.4, 3. , 4.5, 1.5]), 1),\n",
       " (array([6. , 3.4, 4.5, 1.6]), 1),\n",
       " (array([6.7, 3.1, 4.7, 1.5]), 1),\n",
       " (array([6.3, 2.3, 4.4, 1.3]), 1),\n",
       " (array([5.6, 3. , 4.1, 1.3]), 1),\n",
       " (array([5.5, 2.5, 4. , 1.3]), 1),\n",
       " (array([5.5, 2.6, 4.4, 1.2]), 1),\n",
       " (array([6.1, 3. , 4.6, 1.4]), 1),\n",
       " (array([5.8, 2.6, 4. , 1.2]), 1),\n",
       " (array([5. , 2.3, 3.3, 1. ]), 1),\n",
       " (array([5.6, 2.7, 4.2, 1.3]), 1),\n",
       " (array([5.7, 3. , 4.2, 1.2]), 1),\n",
       " (array([5.7, 2.9, 4.2, 1.3]), 1),\n",
       " (array([6.2, 2.9, 4.3, 1.3]), 1),\n",
       " (array([5.1, 2.5, 3. , 1.1]), 1),\n",
       " (array([5.7, 2.8, 4.1, 1.3]), 1),\n",
       " (array([6.3, 3.3, 6. , 2.5]), 2),\n",
       " (array([5.8, 2.7, 5.1, 1.9]), 2),\n",
       " (array([7.1, 3. , 5.9, 2.1]), 2),\n",
       " (array([6.3, 2.9, 5.6, 1.8]), 2),\n",
       " (array([6.5, 3. , 5.8, 2.2]), 2),\n",
       " (array([7.6, 3. , 6.6, 2.1]), 2),\n",
       " (array([4.9, 2.5, 4.5, 1.7]), 2),\n",
       " (array([7.3, 2.9, 6.3, 1.8]), 2),\n",
       " (array([6.7, 2.5, 5.8, 1.8]), 2),\n",
       " (array([7.2, 3.6, 6.1, 2.5]), 2),\n",
       " (array([6.5, 3.2, 5.1, 2. ]), 2),\n",
       " (array([6.4, 2.7, 5.3, 1.9]), 2),\n",
       " (array([6.8, 3. , 5.5, 2.1]), 2),\n",
       " (array([5.7, 2.5, 5. , 2. ]), 2),\n",
       " (array([5.8, 2.8, 5.1, 2.4]), 2),\n",
       " (array([6.4, 3.2, 5.3, 2.3]), 2),\n",
       " (array([6.5, 3. , 5.5, 1.8]), 2),\n",
       " (array([7.7, 3.8, 6.7, 2.2]), 2),\n",
       " (array([7.7, 2.6, 6.9, 2.3]), 2),\n",
       " (array([6. , 2.2, 5. , 1.5]), 2),\n",
       " (array([6.9, 3.2, 5.7, 2.3]), 2),\n",
       " (array([5.6, 2.8, 4.9, 2. ]), 2),\n",
       " (array([7.7, 2.8, 6.7, 2. ]), 2),\n",
       " (array([6.3, 2.7, 4.9, 1.8]), 2),\n",
       " (array([6.7, 3.3, 5.7, 2.1]), 2),\n",
       " (array([7.2, 3.2, 6. , 1.8]), 2),\n",
       " (array([6.2, 2.8, 4.8, 1.8]), 2),\n",
       " (array([6.1, 3. , 4.9, 1.8]), 2),\n",
       " (array([6.4, 2.8, 5.6, 2.1]), 2),\n",
       " (array([7.2, 3. , 5.8, 1.6]), 2),\n",
       " (array([7.4, 2.8, 6.1, 1.9]), 2),\n",
       " (array([7.9, 3.8, 6.4, 2. ]), 2),\n",
       " (array([6.4, 2.8, 5.6, 2.2]), 2),\n",
       " (array([6.3, 2.8, 5.1, 1.5]), 2),\n",
       " (array([6.1, 2.6, 5.6, 1.4]), 2),\n",
       " (array([7.7, 3. , 6.1, 2.3]), 2),\n",
       " (array([6.3, 3.4, 5.6, 2.4]), 2),\n",
       " (array([6.4, 3.1, 5.5, 1.8]), 2),\n",
       " (array([6. , 3. , 4.8, 1.8]), 2),\n",
       " (array([6.9, 3.1, 5.4, 2.1]), 2),\n",
       " (array([6.7, 3.1, 5.6, 2.4]), 2),\n",
       " (array([6.9, 3.1, 5.1, 2.3]), 2),\n",
       " (array([5.8, 2.7, 5.1, 1.9]), 2),\n",
       " (array([6.8, 3.2, 5.9, 2.3]), 2),\n",
       " (array([6.7, 3.3, 5.7, 2.5]), 2),\n",
       " (array([6.7, 3. , 5.2, 2.3]), 2),\n",
       " (array([6.3, 2.5, 5. , 1.9]), 2),\n",
       " (array([6.5, 3. , 5.2, 2. ]), 2),\n",
       " (array([6.2, 3.4, 5.4, 2.3]), 2),\n",
       " (array([5.9, 3. , 5.1, 1.8]), 2)]"
      ]
     },
     "metadata": {},
     "execution_count": 23
    }
   ],
   "source": [
    "list(zip(iris.data,iris.target))"
   ]
  },
  {
   "cell_type": "code",
   "execution_count": 19,
   "metadata": {},
   "outputs": [],
   "source": [
    "dataset = np.hstack((X, y.reshape(-1,1)))\n",
    "np.random.shuffle(dataset)\n",
    "X_train, X_test ,Y_train, Y_test = train_test_split(dataset[:,:4], dataset[:,4],test_size=0.2)"
   ]
  },
  {
   "cell_type": "code",
   "execution_count": 7,
   "metadata": {},
   "outputs": [],
   "source": [
    "model =LogisticRegression()\n",
    "model.fit(X_train, Y_train)\n",
    "Y_pred = model.predict(X_test)"
   ]
  },
  {
   "cell_type": "code",
   "execution_count": 8,
   "metadata": {},
   "outputs": [
    {
     "output_type": "execute_result",
     "data": {
      "text/plain": [
       "1.0"
      ]
     },
     "metadata": {},
     "execution_count": 8
    }
   ],
   "source": [
    "accuracy_score(Y_test, Y_pred)"
   ]
  },
  {
   "cell_type": "code",
   "execution_count": 9,
   "metadata": {},
   "outputs": [
    {
     "output_type": "execute_result",
     "data": {
      "text/plain": [
       "['iris.model']"
      ]
     },
     "metadata": {},
     "execution_count": 9
    }
   ],
   "source": [
    "joblib.dump(model, 'iris.model')"
   ]
  },
  {
   "cell_type": "code",
   "execution_count": 16,
   "metadata": {},
   "outputs": [
    {
     "output_type": "execute_result",
     "data": {
      "text/plain": [
       "array([0.])"
      ]
     },
     "metadata": {},
     "execution_count": 16
    }
   ],
   "source": [
    "model.predict([[1,2,0.5,0.4]])"
   ]
  },
  {
   "cell_type": "code",
   "execution_count": null,
   "metadata": {},
   "outputs": [],
   "source": []
  }
 ]
}